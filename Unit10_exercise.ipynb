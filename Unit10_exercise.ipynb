{
 "cells": [
  {
   "attachments": {},
   "cell_type": "markdown",
   "id": "a075b085-99d8-4b16-8046-49717a4743b1",
   "metadata": {},
   "source": [
    "# Part 1\n",
    "\n",
    "Write a function named `extract_domain(email)`, which will take a string representing an email address (e.g. \"yoni@example.com\") and extract the domain part (in this case \"example.com\").\n",
    "\n",
    "Hint: you may want to use `.split()`\n"
   ]
  },
  {
   "cell_type": "code",
   "execution_count": 8,
   "id": "539ed94b-064c-4cce-8b86-8f24cded44c6",
   "metadata": {},
   "outputs": [
    {
     "data": {
      "text/plain": [
       "'me.com'"
      ]
     },
     "execution_count": 8,
     "metadata": {},
     "output_type": "execute_result"
    }
   ],
   "source": [
    "def extract_domain(email):\n",
    "      return email.split(\"@\")[1] \n",
    "extract_domain(\"athunder@me.com\")"
   ]
  },
  {
   "attachments": {},
   "cell_type": "markdown",
   "id": "22b9203c",
   "metadata": {},
   "source": [
    "# Part 2\n",
    "\n",
    "For our purposes, an email address is considered valid if it has an \"@\" symbol, and at least one character on each side of it. E.g. just \"@example.com\" is invalid, since there is nothing to the left of the \"@\".\n",
    "\n",
    "Your task in this part is to create a custom exception class, and modify the function from part 1 to raise this exception if given an invalid input.\n"
   ]
  },
  {
   "cell_type": "code",
   "execution_count": 53,
   "id": "e9dc3e79",
   "metadata": {},
   "outputs": [
    {
     "ename": "InvalidEmailError",
     "evalue": "your email address is invalid",
     "output_type": "error",
     "traceback": [
      "\u001b[1;31m---------------------------------------------------------------------------\u001b[0m",
      "\u001b[1;31mInvalidEmailError\u001b[0m                         Traceback (most recent call last)",
      "Cell \u001b[1;32mIn[53], line 11\u001b[0m\n\u001b[0;32m      7\u001b[0m     \u001b[39melse\u001b[39;00m:\n\u001b[0;32m      8\u001b[0m         \u001b[39mraise\u001b[39;00m InvalidEmailError(\u001b[39m\"\u001b[39m\u001b[39myour email address is invalid\u001b[39m\u001b[39m\"\u001b[39m)\n\u001b[1;32m---> 11\u001b[0m extract_domain(\u001b[39m\"\u001b[39;49m\u001b[39masdme.com\u001b[39;49m\u001b[39m\"\u001b[39;49m)\n",
      "Cell \u001b[1;32mIn[53], line 8\u001b[0m, in \u001b[0;36mextract_domain\u001b[1;34m(email)\u001b[0m\n\u001b[0;32m      6\u001b[0m     \u001b[39mreturn\u001b[39;00m email\u001b[39m.\u001b[39msplit(\u001b[39m\"\u001b[39m\u001b[39m@\u001b[39m\u001b[39m\"\u001b[39m)[\u001b[39m1\u001b[39m] \n\u001b[0;32m      7\u001b[0m \u001b[39melse\u001b[39;00m:\n\u001b[1;32m----> 8\u001b[0m     \u001b[39mraise\u001b[39;00m InvalidEmailError(\u001b[39m\"\u001b[39m\u001b[39myour email address is invalid\u001b[39m\u001b[39m\"\u001b[39m)\n",
      "\u001b[1;31mInvalidEmailError\u001b[0m: your email address is invalid"
     ]
    }
   ],
   "source": [
    "class InvalidEmailError(Exception):\n",
    "    pass\n",
    "\n",
    "def extract_domain(email):\n",
    "    if (\"@\" in email) and (len(email.split(\"@\")) == 2) and (len(email.split(\"@\")[0])) > 0:\n",
    "        return email.split(\"@\")[1] \n",
    "    else:\n",
    "        raise InvalidEmailError(\"your email address is invalid\")\n",
    "\n",
    "\n",
    "extract_domain(\"asdme.com\")\n",
    "    "
   ]
  },
  {
   "attachments": {},
   "cell_type": "markdown",
   "id": "3e7930c3",
   "metadata": {},
   "source": [
    "# Part 3\n",
    "\n",
    "Move the code from part 2 into a module (e.g. named `email.py`), and add doctests to the function, testing both handling of valid inputs, and invalid ones.\n"
   ]
  },
  {
   "cell_type": "code",
   "execution_count": null,
   "id": "65fb6947",
   "metadata": {},
   "outputs": [],
   "source": [
    "# You may start writing the code for Part 3 here, but should then move it into a separate file"
   ]
  },
  {
   "attachments": {},
   "cell_type": "markdown",
   "id": "fe07b280",
   "metadata": {},
   "source": [
    "# Part 4\n",
    "\n",
    "After creating the module and testing it, write below a short program that asks a user for an email address and then uses the module's code to extract the domain part for the user, or to let them know if they provided an invalid email address.\n"
   ]
  },
  {
   "cell_type": "code",
   "execution_count": null,
   "id": "64672307",
   "metadata": {},
   "outputs": [],
   "source": [
    "# Write the code for Part 4 here, note that it should start with imports"
   ]
  }
 ],
 "metadata": {
  "kernelspec": {
   "display_name": "Python 3 (ipykernel)",
   "language": "python",
   "name": "python3"
  },
  "language_info": {
   "codemirror_mode": {
    "name": "ipython",
    "version": 3
   },
   "file_extension": ".py",
   "mimetype": "text/x-python",
   "name": "python",
   "nbconvert_exporter": "python",
   "pygments_lexer": "ipython3",
   "version": "3.11.0"
  }
 },
 "nbformat": 4,
 "nbformat_minor": 5
}
