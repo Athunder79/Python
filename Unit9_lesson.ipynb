{
 "cells": [
  {
   "cell_type": "markdown",
   "id": "8cdc3437-452c-4eb9-9111-0e51b3b480ee",
   "metadata": {
    "id": "bA5ajAmk7XH6"
   },
   "source": [
    "<img style=\"display: block; margin-left: auto; margin-right: auto;\" src=\"data:image/png;base64,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\">\n",
    "<h1 style=\"margin-top: -5px; margin-left: 40px; text-align: center; font-size: 3em;\"><strong>Module 3 - Python</strong></h1>"
   ]
  },
  {
   "cell_type": "markdown",
   "id": "a7d61c8a-06cd-4d30-b9ae-9cc3444c0761",
   "metadata": {},
   "source": [
    "# Unit 9 - OOP\n",
    "\n",
    "## Our agenda:\n",
    "\n",
    "1. (Re)Introduction of Object Oriented Programming concepts\n",
    "1. Methods, constructors and the self keyword\n",
    "1. Special methods\n",
    "1. Operator overloading and emulating built-in types\n",
    "1. Polymorphism, inheritance and composition\n",
    "1. \"Private\" variables and properties\n",
    "1. Lab time"
   ]
  },
  {
   "cell_type": "markdown",
   "id": "2a0b2c23",
   "metadata": {
    "tags": []
   },
   "source": [
    "# Object-Oriented Programming"
   ]
  },
  {
   "cell_type": "markdown",
   "id": "ba027cfc-1b7f-481b-bcc1-d10e6b29a132",
   "metadata": {
    "tags": []
   },
   "source": [
    "## What's the deal with Object-Oriented Programming?\n",
    "\n",
    "Until now, we learned about Python's basic data types and the built-in data structures, as well as about functions working on them as independent entities.\n",
    "\n",
    "In addition, we mentioned that everything in Python is an object, and that methods are functions attached to objects (e.g. a string's `.lower()` method)\n",
    "\n",
    "In today's lecture, we'll talk about creating our own objects, that is our own custom data types, in order to combine data and behaviour."
   ]
  },
  {
   "cell_type": "code",
   "execution_count": 21,
   "id": "fe5b9336-870b-4813-9c47-2cf5e536f308",
   "metadata": {
    "tags": []
   },
   "outputs": [
    {
     "data": {
      "text/plain": [
       "(34, 29)"
      ]
     },
     "execution_count": 21,
     "metadata": {},
     "output_type": "execute_result"
    }
   ],
   "source": [
    "# Python uses \"Class-based\" objects, which means that to create a new kind of object, we need to define a class\n",
    "# A class would represent a type of entity in the real world (or at least in our domain).\n",
    "\n",
    "# Let's say that our domain is a hair salon, and our example will be of a class to represent a customer.\n",
    "# To create a class, we use the Class keyword and the convention is to start a class name with an upper-case letter\n",
    "# If we don't want to put anything special in our class, we can just use the no-op statement `pass`:\n",
    "\n",
    "class Customer:\n",
    "    pass\n",
    "\n",
    "\n",
    "# we then call the class as if it were a function to create a new object of that class,\n",
    "# this is officially called instantiation, with each object being an \"instance\" of the class\n",
    "alice = Customer()\n",
    "bob = Customer()\n",
    "\n",
    "# we could then assign each object attributes that are unique to that instance:\n",
    "alice.age = 34\n",
    "bob.age = 29\n",
    "\n",
    "# each object's attributes are independent\n",
    "alice.age, bob.age"
   ]
  },
  {
   "cell_type": "code",
   "execution_count": 22,
   "id": "48767ea5-c01a-48de-b749-06f4cb7e573d",
   "metadata": {
    "tags": []
   },
   "outputs": [
    {
     "data": {
      "text/plain": [
       "('blonde', 'brown')"
      ]
     },
     "execution_count": 22,
     "metadata": {},
     "output_type": "execute_result"
    }
   ],
   "source": [
    "# we can attach as many attributes as we want to each object\n",
    "alice.hair_colour = \"blonde\"\n",
    "bob.hair_colour = \"brown\"\n",
    "\n",
    "alice.hair_colour, bob.hair_colour"
   ]
  },
  {
   "cell_type": "code",
   "execution_count": 23,
   "id": "41379167-ee72-4a88-b7ee-eebd01ab08de",
   "metadata": {
    "tags": []
   },
   "outputs": [
    {
     "name": "stdout",
     "output_type": "stream",
     "text": [
      "alice.age=21, alice.hair_colour='brown'\n"
     ]
    }
   ],
   "source": [
    "# But in the class above, we haven't actually defined anything specific to a customer,\n",
    "# and every instance can be entirely different.\n",
    "# Instead, we usually want each class to have a structure specific to the entity it represents.\n",
    "# Let's start by adding the `age` and `hair_color` attributes to the class itself\n",
    "# These then become the default values for the attributes of each instance\n",
    "# (note that we don't need the `pass` anymore)\n",
    "class Customer:\n",
    "    age = 21\n",
    "    hair_colour = \"brown\"\n",
    "\n",
    "\n",
    "alice = Customer()\n",
    "print(f\"{alice.age=}, {alice.hair_colour=}\")"
   ]
  },
  {
   "cell_type": "code",
   "execution_count": 26,
   "id": "43dcc0b7-c5c4-4b3d-b97e-bd3b40784632",
   "metadata": {
    "tags": []
   },
   "outputs": [
    {
     "name": "stdout",
     "output_type": "stream",
     "text": [
      "alice.age=34, alice.hair_colour='blonde'\n"
     ]
    }
   ],
   "source": [
    "# Let's now set those values to the 'real' values for Alice:\n",
    "alice.age = 34\n",
    "alice.hair_colour = \"blonde\"\n",
    "\n",
    "# The attributes assigned to an object override those on a class\n",
    "print(f\"{alice.age=}, {alice.hair_colour=}\")"
   ]
  },
  {
   "cell_type": "code",
   "execution_count": 25,
   "id": "1b06ae7f-27cd-4458-a084-7d064899119f",
   "metadata": {
    "tags": []
   },
   "outputs": [
    {
     "name": "stdout",
     "output_type": "stream",
     "text": [
      "bob.age=21, bob.hair_colour='brown'\n",
      "bob.age=29, bob.hair_colour='brown'\n"
     ]
    }
   ],
   "source": [
    "# But they don't change the class attributes, which will still be the defaults for future instances:\n",
    "bob = Customer()\n",
    "print(f\"{bob.age=}, {bob.hair_colour=}\")\n",
    "\n",
    "# Bob already has the default hair colour, such that we only need to override their age:\n",
    "bob.age = 29\n",
    "print(f\"{bob.age=}, {bob.hair_colour=}\")"
   ]
  },
  {
   "cell_type": "code",
   "execution_count": 27,
   "id": "71ae3418-3b2a-484e-9ad3-ba04fd02b286",
   "metadata": {
    "tags": []
   },
   "outputs": [
    {
     "data": {
      "text/plain": [
       "'A 21 year-old, with brown hair'"
      ]
     },
     "execution_count": 27,
     "metadata": {},
     "output_type": "execute_result"
    }
   ],
   "source": [
    "# So far we only used data, but we said that objects are about combining data and behaviour, so let's do that now by adding a method to our class:\n",
    "class Customer:\n",
    "    age = 21\n",
    "    hair_colour = \"brown\"\n",
    "\n",
    "    def describe(self):  # Note the special parameter `self` that allows the method to refer to the object itself\n",
    "        return f\"A {self.age} year-old, with {self.hair_colour} hair\"\n",
    "\n",
    "\n",
    "alice = Customer()\n",
    "alice.describe()"
   ]
  },
  {
   "cell_type": "code",
   "execution_count": 28,
   "id": "c2961c99-c47a-4347-beac-bfbf63aa3551",
   "metadata": {
    "tags": []
   },
   "outputs": [
    {
     "data": {
      "text/plain": [
       "'A 34 year-old, with blonde hair'"
      ]
     },
     "execution_count": 28,
     "metadata": {},
     "output_type": "execute_result"
    }
   ],
   "source": [
    "alice.age = 34\n",
    "alice.hair_colour = 'blonde'\n",
    "alice.describe()"
   ]
  },
  {
   "cell_type": "code",
   "execution_count": 29,
   "id": "7d2efb87-97ff-4148-9b84-11d5d5765dc0",
   "metadata": {
    "tags": []
   },
   "outputs": [
    {
     "name": "stdout",
     "output_type": "stream",
     "text": [
      "Hi Alice, welcome to our hair salon\n"
     ]
    },
    {
     "data": {
      "text/plain": [
       "'A 34 year-old, with dark red hair'"
      ]
     },
     "execution_count": 29,
     "metadata": {},
     "output_type": "execute_result"
    }
   ],
   "source": [
    "# We could use an object like this to implement interactions between users and our program\n",
    "print('Hi Alice, welcome to our hair salon')\n",
    "new_colour = input('Would you like to dye your hair? If so, what colour would you like? ')\n",
    "alice.hair_colour = new_colour\n",
    "alice.describe()\n",
    "\n",
    "# But the above code requires us to expose the internals of the object to the user.\n",
    "# We can do better by using methods to interact with the object"
   ]
  },
  {
   "cell_type": "code",
   "execution_count": 30,
   "id": "9be3daaf-befc-4dd0-81e9-5173fcf1db0d",
   "metadata": {
    "tags": []
   },
   "outputs": [
    {
     "name": "stdout",
     "output_type": "stream",
     "text": [
      "A 21 year-old, with brown hair\n",
      "Hi Alice, welcome to our hair salon\n",
      "Dyeing to purple\n",
      "A 21 year-old, with purple hair\n"
     ]
    }
   ],
   "source": [
    "# Objects are about combining an entity's data with `behaviour` that the entity can perform\n",
    "# They are particularly useful for entities that have a \"state\" that changes when events happen\n",
    "# So let's add a method that changes the customer object's state when they dye their hair\n",
    "\n",
    "class Customer:\n",
    "    age = 21\n",
    "    hair_colour = \"brown\"\n",
    "\n",
    "    def describe(self):  # Note the special parameter `self` that allows the method to refer to the object itself\n",
    "        return f\"A {self.age} year-old, with {self.hair_colour} hair\"\n",
    "    \n",
    "    def dye_hair(self, new_colour):\n",
    "        print(f\"Dyeing to {new_colour}\")\n",
    "        self.hair_colour = new_colour  # remember to use `self` whenever referring to the object\n",
    "\n",
    "\n",
    "alice = Customer()\n",
    "print(alice.describe())\n",
    "\n",
    "print('Hi Alice, welcome to our hair salon')\n",
    "new_colour = input('Would you like to dye your hair? If so, what colour would you like? ')\n",
    "\n",
    "alice.dye_hair(new_colour)\n",
    "print(alice.describe())"
   ]
  },
  {
   "cell_type": "markdown",
   "id": "dbce7a04-dc16-4ed3-9fb7-d368440819df",
   "metadata": {
    "tags": []
   },
   "source": [
    "# Adding a constructor\n",
    "A constructor (aka initialiser) is a special method that is run whenever we create a new object.\n",
    "In Python, all special methods have specific names that are always preceded and succeeded by a double underscore, and we usually refer to them as \"dunder\" (double underscore) methods.\n",
    "These are methods on your classes that the Python interpreter might call on its own (it will never call any method named without dunder).\n",
    "\n",
    "The constructor method in Python must be named `__init__`."
   ]
  },
  {
   "cell_type": "code",
   "execution_count": 4,
   "id": "a0517cdc-41f7-4d62-a089-5d48fa775a9f",
   "metadata": {
    "tags": []
   },
   "outputs": [
    {
     "name": "stdout",
     "output_type": "stream",
     "text": [
      "A 21 year-old, with brown hair\n",
      "Dyeing to blonde\n",
      "A 21 year-old, with blonde hair\n"
     ]
    }
   ],
   "source": [
    "# Let's now use a constructor to provide our Customer's age and hair colour.\n",
    "class Customer:\n",
    "    # Note that the __init__ method is by convention always placed at the top\n",
    "    # By using parameters with default values, we no longer need to use class attributes\n",
    "    def __init__(self, age=21, hair_colour=\"brown\"):\n",
    "        self.age = age\n",
    "        self.hair_colour = hair_colour\n",
    "\n",
    "    def describe(self):  # Note the special parameter `self` that allows the method to refer to the object itself\n",
    "        return f\"A {self.age} year-old, with {self.hair_colour} hair\"\n",
    "    \n",
    "    def dye_hair(self, new_colour):\n",
    "        print(f\"Dyeing to {new_colour}\")\n",
    "        self.hair_colour = new_colour  # remember to use `self` whenever referring to the object\n",
    "\n",
    "\n",
    "alice = Customer(age=34, hair_colour=\"blue\")\n",
    "print(alice.describe())\n",
    "\n",
    "alice.dye_hair(\"blonde\")\n",
    "print(alice.describe())"
   ]
  },
  {
   "cell_type": "code",
   "execution_count": 35,
   "id": "20739b5d-00af-440e-bb7e-1ba971339039",
   "metadata": {},
   "outputs": [
    {
     "data": {
      "text/plain": [
       "'A 21 year-old, with gray hair'"
      ]
     },
     "execution_count": 35,
     "metadata": {},
     "output_type": "execute_result"
    }
   ],
   "source": [
    "bob = Customer(hair_colour=\"gray\")\n",
    "bob.describe()"
   ]
  },
  {
   "cell_type": "code",
   "execution_count": 33,
   "id": "2f34e956-3174-4949-8f51-e1a9766c6df3",
   "metadata": {
    "tags": []
   },
   "outputs": [
    {
     "name": "stdout",
     "output_type": "stream",
     "text": [
      "A 34 year-old, with blonde hair\n"
     ]
    }
   ],
   "source": [
    "# Alternatively, we could just use the constructor to create alice with blonde hair directly\n",
    "alice = Customer(34, \"blonde\")\n",
    "print(alice.describe())"
   ]
  },
  {
   "cell_type": "code",
   "execution_count": 36,
   "id": "316e04b3-eaaa-4a57-9e52-ffbd2007d995",
   "metadata": {},
   "outputs": [
    {
     "name": "stdout",
     "output_type": "stream",
     "text": [
      "Hi, welcome to our hair salon\n"
     ]
    },
    {
     "data": {
      "text/plain": [
       "'A 51 year-old, with black hair'"
      ]
     },
     "execution_count": 36,
     "metadata": {},
     "output_type": "execute_result"
    }
   ],
   "source": [
    "print(\"Hi, welcome to our hair salon\")\n",
    "age = input(\"How old are you?\")\n",
    "hair_colour = input(\"What's your current hair colour?\")\n",
    "\n",
    "new_customer = Customer(age, hair_colour)\n",
    "new_customer.describe()"
   ]
  },
  {
   "cell_type": "code",
   "execution_count": 37,
   "id": "de372082-6e83-4445-8295-fb727fe1f740",
   "metadata": {
    "tags": []
   },
   "outputs": [
    {
     "name": "stdout",
     "output_type": "stream",
     "text": [
      "A 35 year-old, with blonde hair\n"
     ]
    }
   ],
   "source": [
    "# We can still assign values directly to object attributes\n",
    "alice.age = 35\n",
    "print(alice.describe())\n",
    "# But we typically prefer to avoid it and we'll later see a way around this"
   ]
  },
  {
   "cell_type": "code",
   "execution_count": 39,
   "id": "c3d2bede-8769-4b7d-a433-7738226e4b8a",
   "metadata": {
    "tags": []
   },
   "outputs": [
    {
     "data": {
      "text/plain": [
       "(<__main__.Customer at 0x1d61b97a190>, <__main__.Customer at 0x1d61b482cd0>)"
      ]
     },
     "execution_count": 39,
     "metadata": {},
     "output_type": "execute_result"
    }
   ],
   "source": [
    "# Let's see what happens when try to just look at the alice object:\n",
    "alice, bob"
   ]
  },
  {
   "cell_type": "code",
   "execution_count": 40,
   "id": "f205f01c-72b9-41bc-a9c1-1f2afe850aa2",
   "metadata": {
    "tags": []
   },
   "outputs": [
    {
     "name": "stdout",
     "output_type": "stream",
     "text": [
      "<__main__.Customer object at 0x000001D61B97A190>\n"
     ]
    }
   ],
   "source": [
    "# and the same would appear if we use `print`\n",
    "print(alice)"
   ]
  },
  {
   "cell_type": "code",
   "execution_count": 41,
   "id": "a03d4fc3-9c40-4fed-a2ea-26952cacba53",
   "metadata": {
    "tags": []
   },
   "outputs": [
    {
     "data": {
      "text/plain": [
       "Customer(age=34, hair_colour='brown')"
      ]
     },
     "execution_count": 41,
     "metadata": {},
     "output_type": "execute_result"
    }
   ],
   "source": [
    "# We can do better then that ugly default, by creating a __repr__ method\n",
    "# The convention is to use the format used to construct the same object:\n",
    "class Customer:\n",
    "    def __init__(self, age=21, hair_colour=\"brown\"):\n",
    "        self.age = age\n",
    "        self.hair_colour = hair_colour\n",
    "\n",
    "    def __repr__(self):\n",
    "        return f\"Customer(age={self.age}, hair_colour='{self.hair_colour}')\"\n",
    "        \n",
    "    def describe(self):\n",
    "        return f\"A {self.age} year-old, with {self.hair_colour} hair\"\n",
    "    \n",
    "    def dye_hair(self, new_colour):\n",
    "        print(f\"Dyeing to {new_colour}\")\n",
    "        self.hair_colour = new_colour\n",
    "\n",
    "\n",
    "alice = Customer(34)\n",
    "alice"
   ]
  },
  {
   "cell_type": "code",
   "execution_count": 43,
   "id": "685c765d-4def-400f-b3a3-127ae7067fbe",
   "metadata": {
    "tags": []
   },
   "outputs": [
    {
     "data": {
      "text/plain": [
       "Customer(age=38, hair_colour='brown')"
      ]
     },
     "execution_count": 43,
     "metadata": {},
     "output_type": "execute_result"
    }
   ],
   "source": [
    "Customer(age=38, hair_colour='brown')"
   ]
  },
  {
   "cell_type": "code",
   "execution_count": 44,
   "id": "ec090a96-5b68-46f4-a3b9-e6282fd7fbc1",
   "metadata": {
    "tags": []
   },
   "outputs": [
    {
     "name": "stdout",
     "output_type": "stream",
     "text": [
      "Customer(age=34, hair_colour='brown')\n"
     ]
    }
   ],
   "source": [
    "# By default this special __repr__ method will also be used to print an object:\n",
    "print(alice)"
   ]
  },
  {
   "cell_type": "code",
   "execution_count": 54,
   "id": "222ec58f-6d82-455d-8c26-436c67445d2a",
   "metadata": {
    "tags": []
   },
   "outputs": [
    {
     "name": "stdout",
     "output_type": "stream",
     "text": [
      "A 34 year-old, with brown hair\n"
     ]
    }
   ],
   "source": [
    "# But usually we will want a nicer print-out than the representation, this is the purpose of the __str__ method\n",
    "# We already have our describe method, so we could just rename that\n",
    "\n",
    "class Customer:\n",
    "    def __init__(self, age=21, hair_colour=\"brown\"):\n",
    "        self.age = age\n",
    "        self.hair_colour = hair_colour\n",
    "\n",
    "    def __repr__(self):\n",
    "        return f\"Customer(age={self.age}, hair_colour={self.hair_colour})\"\n",
    "        \n",
    "    def __str__(self):\n",
    "        return f\"A {self.age} year-old, with {self.hair_colour} hair\"\n",
    "    \n",
    "    def dye_hair(self, new_colour):\n",
    "        print(f\"Dyeing to {new_colour}\")\n",
    "        self.hair_colour = new_colour\n",
    "\n",
    "\n",
    "alice = Customer(34)\n",
    "print(alice)  # Now we don't need to call a method to get a nice description anymore"
   ]
  },
  {
   "cell_type": "code",
   "execution_count": 52,
   "id": "1f1511b1",
   "metadata": {},
   "outputs": [
    {
     "name": "stdout",
     "output_type": "stream",
     "text": [
      "Alice is A 34 year-old, with brown hair\n"
     ]
    }
   ],
   "source": [
    "# By the way, this also is used when doing f-strings\n",
    "\n",
    "print(f\"Alice is {alice}\")"
   ]
  },
  {
   "cell_type": "code",
   "execution_count": 56,
   "id": "0a70a159-1552-41fa-abbc-1327ee4b69b3",
   "metadata": {
    "tags": []
   },
   "outputs": [
    {
     "name": "stdout",
     "output_type": "stream",
     "text": [
      "A 21 year-old, with brown hair\n",
      "A 21 year-old, with brown hair\n"
     ]
    },
    {
     "data": {
      "text/plain": [
       "False"
      ]
     },
     "execution_count": 56,
     "metadata": {},
     "output_type": "execute_result"
    }
   ],
   "source": [
    "# Let's look at a few more special methods\n",
    "# For example, how about equality\n",
    "\n",
    "alice = Customer()\n",
    "bob = Customer()\n",
    "print(alice)\n",
    "print(bob)\n",
    "\n",
    "# do you expect them to be equal?\n",
    "alice == bob"
   ]
  },
  {
   "cell_type": "code",
   "execution_count": 57,
   "id": "4210fed6-6b34-42b3-8430-2a281a8b7944",
   "metadata": {
    "tags": []
   },
   "outputs": [
    {
     "data": {
      "text/plain": [
       "True"
      ]
     },
     "execution_count": 57,
     "metadata": {},
     "output_type": "execute_result"
    }
   ],
   "source": [
    "# No, they're not, by default any two objects are different, even if they have the same values, which probably works well for people\n",
    "alice == alice"
   ]
  },
  {
   "cell_type": "code",
   "execution_count": 58,
   "id": "a95245fe-f372-41ed-b1bf-5d1c59dbffa8",
   "metadata": {
    "tags": []
   },
   "outputs": [
    {
     "data": {
      "text/plain": [
       "True"
      ]
     },
     "execution_count": 58,
     "metadata": {},
     "output_type": "execute_result"
    }
   ],
   "source": [
    "# But note that this holds true even if we give the same object two names: (A rose by any other name would smell as sweet)\n",
    "alice2 = alice\n",
    "alice == alice2"
   ]
  },
  {
   "cell_type": "code",
   "execution_count": 59,
   "id": "905c2f35-858b-4e69-8e61-6b108cff5529",
   "metadata": {
    "tags": []
   },
   "outputs": [
    {
     "name": "stdout",
     "output_type": "stream",
     "text": [
      "False\n"
     ]
    }
   ],
   "source": [
    "# Let's create a different type of object - a rectangle\n",
    "\n",
    "class Rectangle:\n",
    "    def __init__(self, width, height):\n",
    "        self.width = width\n",
    "        self.height = height\n",
    "        \n",
    "rect1 = Rectangle(10, 15)\n",
    "rect2 = Rectangle(10, 15)\n",
    "\n",
    "print(rect1 == rect2)"
   ]
  },
  {
   "cell_type": "code",
   "execution_count": 60,
   "id": "d3289152-3b97-4186-9654-e30687e7d542",
   "metadata": {
    "tags": []
   },
   "outputs": [
    {
     "name": "stdout",
     "output_type": "stream",
     "text": [
      "True\n",
      "False\n"
     ]
    }
   ],
   "source": [
    "#hmm, we did expect these to be equal. Let's add an __eq__ method\n",
    "class Rectangle:\n",
    "    def __init__(self, width, height):\n",
    "        self.width = width\n",
    "        self.height = height\n",
    "\n",
    "    def __eq__(self, other):  # it takes the another object as a second parameter\n",
    "        return self.width == other.width and self.height == other.height\n",
    "\n",
    "rect1 = Rectangle(10, 15)\n",
    "rect2 = Rectangle(10, 15)\n",
    "\n",
    "print(rect1 == rect2)\n",
    "\n",
    "# If we change the width (or height) attribute to something else, they will no longer be equal\n",
    "rect2.width = 20\n",
    "print(rect1 == rect2)"
   ]
  },
  {
   "cell_type": "code",
   "execution_count": 63,
   "id": "e1268105",
   "metadata": {},
   "outputs": [
    {
     "data": {
      "text/plain": [
       "False"
      ]
     },
     "execution_count": 63,
     "metadata": {},
     "output_type": "execute_result"
    }
   ],
   "source": [
    "# How would we go about this, if we wanted to treat two rotated rectangles the same?\n",
    "\n",
    "# I.e. How do we make this True:\n",
    "Rectangle(10, 15) == Rectangle(15, 10)\n"
   ]
  },
  {
   "cell_type": "code",
   "execution_count": 67,
   "id": "08ea755e",
   "metadata": {},
   "outputs": [
    {
     "data": {
      "text/plain": [
       "False"
      ]
     },
     "execution_count": 67,
     "metadata": {},
     "output_type": "execute_result"
    }
   ],
   "source": [
    "class Rectangle:\n",
    "    def __init__(self, width, height):\n",
    "        self.width = width\n",
    "        self.height = height\n",
    "\n",
    "    def __eq__(self, other):  # it takes the another object as a second parameter\n",
    "        return {self.width, self.height} == {other.width, other.height}\n",
    "\n",
    "Rectangle(10, 15) == Rectangle(15, 10)"
   ]
  },
  {
   "cell_type": "markdown",
   "id": "ff04820f-b96d-4636-86de-72e034b6f464",
   "metadata": {
    "tags": []
   },
   "source": [
    "# Operator overloading"
   ]
  },
  {
   "cell_type": "code",
   "execution_count": 68,
   "id": "fae86d7a-3945-48bb-8b81-60ac9f9ffbc6",
   "metadata": {
    "tags": []
   },
   "outputs": [
    {
     "ename": "TypeError",
     "evalue": "unsupported operand type(s) for *: 'Rectangle' and 'int'",
     "output_type": "error",
     "traceback": [
      "\u001b[1;31m---------------------------------------------------------------------------\u001b[0m",
      "\u001b[1;31mTypeError\u001b[0m                                 Traceback (most recent call last)",
      "Cell \u001b[1;32mIn[68], line 2\u001b[0m\n\u001b[0;32m      1\u001b[0m \u001b[39m# Quiz - could we use something like this to stretch our rect?\u001b[39;00m\n\u001b[1;32m----> 2\u001b[0m rect1 \u001b[39m*\u001b[39;49m \u001b[39m3\u001b[39;49m\n",
      "\u001b[1;31mTypeError\u001b[0m: unsupported operand type(s) for *: 'Rectangle' and 'int'"
     ]
    }
   ],
   "source": [
    "# Quiz - could we use something like this to stretch our rect?\n",
    "rect1 * 3"
   ]
  },
  {
   "cell_type": "markdown",
   "id": "ebf0d503-bb55-4dea-aae3-1c8166757b08",
   "metadata": {
    "tags": []
   },
   "source": [
    "Similar to what we did with equality, Python encourages us to overload other operators as well, whenever it makes sense for our class.\n",
    "\n",
    "These include relational operators (returning a boolean):\n",
    "\n",
    "| operator |        method       |\n",
    "|:--------:|:-------------------:|\n",
    "| !=       | `__ne__(self, other)` |\n",
    "| <        | `__lt__(self, other)` |\n",
    "| >        | `__gt__(self, other)` |\n",
    "| <=       | `__le__(self, other)` |\n",
    "| >=       | `__ge__(self, other)` |\n",
    "\n",
    "And arithmetic operators (typically returning a new object of the same class):\n",
    "\n",
    "| operator |        method        |\n",
    "|:--------:|:--------------------:|\n",
    "| +        | `__add__(self, other)` |\n",
    "| -        | `__sub__(self, other)` |\n",
    "| *        | `__mul__(self, other)` |\n",
    "| ...      | ...                  |"
   ]
  },
  {
   "cell_type": "code",
   "execution_count": 69,
   "id": "97e6117c-6b25-43f1-885c-dcf42c9a8977",
   "metadata": {
    "tags": []
   },
   "outputs": [
    {
     "data": {
      "text/plain": [
       "Rectangle(width=10, height=15)"
      ]
     },
     "execution_count": 69,
     "metadata": {},
     "output_type": "execute_result"
    }
   ],
   "source": [
    "# For example let's have our rectangle stretch in both direction when multiplied by a number:\n",
    "class Rectangle:\n",
    "    def __init__(self, width, height):\n",
    "        self.width = width\n",
    "        self.height = height\n",
    "\n",
    "    def __repr__(self):\n",
    "        return f\"Rectangle(width={self.width}, height={self.height})\"\n",
    "    \n",
    "    def __mul__(self, factor):\n",
    "        return Rectangle(self.width * factor, self.height * factor)\n",
    "\n",
    "rect1 = Rectangle(10, 15)\n",
    "rect1"
   ]
  },
  {
   "cell_type": "code",
   "execution_count": 70,
   "id": "6dfabcd1-6730-4262-bc77-dbe3524221ff",
   "metadata": {
    "tags": []
   },
   "outputs": [
    {
     "name": "stdout",
     "output_type": "stream",
     "text": [
      "Rectangle(width=30, height=45)\n",
      "Rectangle(width=10, height=15)\n"
     ]
    }
   ],
   "source": [
    "print(rect1 * 3)\n",
    "print(rect1)"
   ]
  },
  {
   "cell_type": "markdown",
   "id": "f2af7837-f2da-40d4-acc5-87599d16379a",
   "metadata": {
    "tags": []
   },
   "source": [
    "# Emulating existing data types:\n",
    "\n",
    "Python allows us to emulate most built-in data types. For example:\n",
    "\n",
    "- Numbers: arithmetics, int(myobj) , float(myobj) , . . .\n",
    "- Functions: myobj(...)\n",
    "- Collections: len(myobj) , myobj[...] , x in myobj , ...  Iterators: for i in myobj\n",
    "\n",
    "See [documentation](http://docs.python.org/3/reference/datamodel.html)\n"
   ]
  },
  {
   "cell_type": "markdown",
   "id": "3b241e08-5b95-4922-bbf8-8e410a5a7259",
   "metadata": {
    "tags": []
   },
   "source": [
    "# Polymorphism\n",
    "Polymorphism (defined as \"The condition of occurring in different forms\") is a core concept of object-oriented programming, whereby we can different types of objects in the same manner without caring what class they are, as long as they have the same method signatures (name, types of input parameters and type of output)."
   ]
  },
  {
   "cell_type": "code",
   "execution_count": 71,
   "id": "ce9b46cd-d4dc-41cd-a9c3-3871acc5fc30",
   "metadata": {
    "tags": []
   },
   "outputs": [
    {
     "data": {
      "text/plain": [
       "60"
      ]
     },
     "execution_count": 71,
     "metadata": {},
     "output_type": "execute_result"
    }
   ],
   "source": [
    "class Rectangle:\n",
    "    def __init__(self, width, height):\n",
    "        self.width = width\n",
    "        self.height = height\n",
    "\n",
    "    def __repr__(self):\n",
    "        return f\"Rectangle(width={self.width}, height={self.height})\"\n",
    "    \n",
    "    def __mul__(self, factor):\n",
    "        return Rectangle(self.width * factor, self.height * factor)\n",
    "    \n",
    "    def get_perimeter(self):\n",
    "        return 2 * (self.width + self.height)\n",
    "\n",
    "    \n",
    "rect1 = Rectangle(10, 20)\n",
    "rect1.get_perimeter()"
   ]
  },
  {
   "cell_type": "code",
   "execution_count": 72,
   "id": "1e3fa783-a914-45fb-b5d7-19f08d50e6d2",
   "metadata": {
    "tags": []
   },
   "outputs": [
    {
     "data": {
      "text/plain": [
       "62.83185307179586"
      ]
     },
     "execution_count": 72,
     "metadata": {},
     "output_type": "execute_result"
    }
   ],
   "source": [
    "from math import pi\n",
    "\n",
    "class Circle:\n",
    "    def __init__(self, radius):\n",
    "        self.radius = radius\n",
    "\n",
    "    def __repr__(self):\n",
    "        return f\"Circle(radius={self.radius})\"\n",
    "\n",
    "    def __mul__(self, factor):\n",
    "        return Circle(self.radius * factor)\n",
    "    \n",
    "    def get_perimeter(self):\n",
    "        return 2 * pi * self.radius\n",
    "\n",
    "circle1 = Circle(10)\n",
    "circle1.get_perimeter()"
   ]
  },
  {
   "cell_type": "code",
   "execution_count": 73,
   "id": "aad58fa5-b4c0-4125-8106-49536c279f0a",
   "metadata": {
    "tags": []
   },
   "outputs": [
    {
     "name": "stdout",
     "output_type": "stream",
     "text": [
      "60\n",
      "62.83185307179586\n",
      "70\n",
      "31.41592653589793\n"
     ]
    }
   ],
   "source": [
    "shapes = [Rectangle(10, 20), Circle(10), Rectangle(20, 15), Circle(5)]\n",
    "\n",
    "for shape in shapes:\n",
    "    print(shape.get_perimeter())"
   ]
  },
  {
   "cell_type": "markdown",
   "id": "b892c449-fe58-4dc6-acf7-d418ff909712",
   "metadata": {
    "tags": []
   },
   "source": [
    "# Inheritance\n",
    "Inheritance is another central property of object-oriented programming, allowing us to define \"child\" classes based on \"parent\" classes. In this manner, we can have the child class \"inherit\" methods from their parent, enabling effective reuse of code, and simplifying polymorphism."
   ]
  },
  {
   "cell_type": "code",
   "execution_count": 76,
   "id": "bd49834b-187a-419a-8171-8d84b4750cef",
   "metadata": {
    "tags": []
   },
   "outputs": [
    {
     "name": "stdout",
     "output_type": "stream",
     "text": [
      "A Rectangle with a perimeter of 60.0\n",
      "A Circle with a perimeter of 62.8\n",
      "A Rectangle with a perimeter of 70.0\n",
      "A Circle with a perimeter of 31.4\n"
     ]
    }
   ],
   "source": [
    "# Let's add a __str__ method to both Rectangle and Circle, to describe the shape and its perimeter:\n",
    "class Rectangle:\n",
    "    def __init__(self, width, height):\n",
    "        self.width = width\n",
    "        self.height = height\n",
    "\n",
    "    def __repr__(self):\n",
    "        return f\"Rectangle(width={self.width}, height={self.height})\"\n",
    "    \n",
    "    def __str__(self):\n",
    "        return f\"A Rectangle with a perimeter of {self.get_perimeter():0.1f}\"\n",
    "    \n",
    "    def __mul__(self, factor):\n",
    "        return Rectangle(self.width * factor, self.height * factor)\n",
    "    \n",
    "    def get_perimeter(self):\n",
    "        return 2 * (self.width + self.height)\n",
    "\n",
    "\n",
    "class Circle:\n",
    "    def __init__(self, radius):\n",
    "        self.radius = radius\n",
    "\n",
    "    def __repr__(self):\n",
    "        return f\"Circle(radius={self.radius})\"\n",
    "\n",
    "    def __str__(self):\n",
    "        return f\"A Circle with a perimeter of {self.get_perimeter():0.1f}\"\n",
    "\n",
    "    def __mul__(self, factor):\n",
    "        return Circle(self.radius * factor)\n",
    "    \n",
    "    def get_perimeter(self):\n",
    "        return 2 * pi * self.radius\n",
    "\n",
    "\n",
    "shapes = [Rectangle(10, 20), Circle(10), Rectangle(20, 15), Circle(5)]\n",
    "\n",
    "for shape in shapes:\n",
    "    print(shape)"
   ]
  },
  {
   "cell_type": "markdown",
   "id": "acfa9e2f-a13e-4d8b-93b0-daa9aac4910c",
   "metadata": {
    "tags": []
   },
   "source": [
    "This works, but seeing how these methods are almost identical, wouldn't it be nice if we could define the method just once?"
   ]
  },
  {
   "cell_type": "code",
   "execution_count": 79,
   "id": "9aa6c0b0-5fef-4251-a177-1ab48b35007e",
   "metadata": {
    "tags": []
   },
   "outputs": [
    {
     "name": "stdout",
     "output_type": "stream",
     "text": [
      "A Rectangle with a perimeter of 60.0\n",
      "A Circle with a perimeter of 62.8\n",
      "A Rectangle with a perimeter of 70.0\n",
      "A Circle with a perimeter of 31.4\n"
     ]
    }
   ],
   "source": [
    "# Well, both Rectangle and Circle are shapes, so let's define a Shape class\n",
    "class Shape:\n",
    "    def __str__(self):\n",
    "        class_name = self.__class__.__name__  # It's not the most elegant, but this gives us the class name\n",
    "        return f\"A {class_name} with a perimeter of {self.get_perimeter():0.1f}\"\n",
    "\n",
    "\n",
    "class Rectangle(Shape):\n",
    "    def __init__(self, width, height):\n",
    "        self.width = width\n",
    "        self.height = height\n",
    "\n",
    "    def __repr__(self):\n",
    "        return f\"Rectangle(width={self.width}, height={self.height})\"\n",
    "    \n",
    "    def __mul__(self, factor):\n",
    "        return Rectangle(self.width * factor, self.height * factor)\n",
    "    \n",
    "    def get_perimeter(self):\n",
    "        return 2 * (self.width + self.height)\n",
    "\n",
    "    \n",
    "class Circle(Shape):\n",
    "    def __init__(self, radius):\n",
    "        self.radius = radius\n",
    "\n",
    "    def __repr__(self):\n",
    "        return f\"Circle(radius={self.radius})\"\n",
    "\n",
    "    def __mul__(self, factor):\n",
    "        return Circle(self.radius * factor)\n",
    "    \n",
    "    def get_perimeter(self):\n",
    "        return 2 * pi * self.radius\n",
    "    \n",
    "shapes = [Rectangle(10, 20), Circle(10), Rectangle(20, 15), Circle(5)]\n",
    "\n",
    "for shape in shapes:\n",
    "    print(shape)"
   ]
  },
  {
   "cell_type": "code",
   "execution_count": 80,
   "id": "01ad43e2-ab2b-4498-9838-ecd928f34697",
   "metadata": {
    "tags": []
   },
   "outputs": [
    {
     "name": "stdout",
     "output_type": "stream",
     "text": [
      "A Rectangle with a perimeter of 60.0\n",
      "An amazing circle\n",
      "A Rectangle with a perimeter of 70.0\n",
      "An amazing circle\n"
     ]
    }
   ],
   "source": [
    "# Note that we can \"override\" an inherited method by implementing it in the child class\n",
    "\n",
    "class Circle(Shape):\n",
    "    def __init__(self, radius):\n",
    "        self.radius = radius\n",
    "\n",
    "    def __repr__(self):\n",
    "        return f\"Circle(radius={self.radius})\"\n",
    "    \n",
    "    def __str__(self):  # By redefining a method with the same name, we override it\n",
    "        return f\"An amazing circle\"\n",
    "\n",
    "    def __mul__(self, factor):\n",
    "        return Circle(self.radius * factor)\n",
    "    \n",
    "    def get_perimeter(self):\n",
    "        return 2 * pi * self.radius\n",
    "    \n",
    "\n",
    "shapes = [Rectangle(10, 20), Circle(10), Rectangle(20, 15), Circle(5)]\n",
    "\n",
    "for shape in shapes:\n",
    "    print(shape)"
   ]
  },
  {
   "cell_type": "code",
   "execution_count": 81,
   "id": "b47bcc3a-a0ef-4a90-a046-a2cccaa543e0",
   "metadata": {
    "tags": []
   },
   "outputs": [
    {
     "name": "stdout",
     "output_type": "stream",
     "text": [
      "A Rectangle with a perimeter of 60.0\n",
      "A Circle with a perimeter of 62.8 ... and it's amazing!!!\n",
      "A Rectangle with a perimeter of 70.0\n",
      "A Circle with a perimeter of 31.4 ... and it's amazing!!!\n"
     ]
    }
   ],
   "source": [
    "# We can also redefine a method but still refer to the parent's method by using super()\n",
    "\n",
    "class Circle(Shape):\n",
    "    def __init__(self, radius):\n",
    "        self.radius = radius\n",
    "\n",
    "    def __repr__(self):\n",
    "        return f\"Circle(radius={self.radius})\"\n",
    "    \n",
    "    def __str__(self):  # Redefining the method, while relying on the parent\n",
    "        parent_response = super().__str__()\n",
    "        return f\"{parent_response} ... and it's amazing!!!\"\n",
    "\n",
    "    def __mul__(self, factor):\n",
    "        return Circle(self.radius * factor)\n",
    "    \n",
    "    def get_perimeter(self):\n",
    "        return 2 * pi * self.radius\n",
    "    \n",
    "\n",
    "shapes = [Rectangle(10, 20), Circle(10), Rectangle(20, 15), Circle(5)]\n",
    "for shape in shapes:\n",
    "    print(shape)"
   ]
  },
  {
   "cell_type": "code",
   "execution_count": 82,
   "id": "3bea235a-9308-4295-a112-8356f0ffce43",
   "metadata": {
    "tags": []
   },
   "outputs": [
    {
     "data": {
      "text/plain": [
       "('Providing mommy care', 'Providing daddy care')"
      ]
     },
     "execution_count": 82,
     "metadata": {},
     "output_type": "execute_result"
    }
   ],
   "source": [
    "# Multiple inheritance - we can inherit from more than one class\n",
    "\n",
    "class Mum:\n",
    "    def mum_care(self):\n",
    "        return \"Providing mommy care\"\n",
    "\n",
    "    \n",
    "class Dad:\n",
    "    def dad_care(self):\n",
    "        return \"Providing daddy care\"\n",
    "\n",
    "    \n",
    "class Child(Mum, Dad):\n",
    "    pass\n",
    "\n",
    "\n",
    "bobby = Child()\n",
    "bobby.mum_care(), bobby.dad_care()"
   ]
  },
  {
   "cell_type": "code",
   "execution_count": 83,
   "id": "a01fc40a-fc5e-4649-91bf-4b9e8fab361a",
   "metadata": {
    "tags": []
   },
   "outputs": [
    {
     "data": {
      "text/plain": [
       "'Providing mommy care'"
      ]
     },
     "execution_count": 83,
     "metadata": {},
     "output_type": "execute_result"
    }
   ],
   "source": [
    "# But it can be quite problematic, running the risk of different parents having methods with the same name\n",
    "\n",
    "class Mum:\n",
    "    def care(self):\n",
    "        return \"Providing mommy care\"\n",
    "\n",
    "    \n",
    "class Dad:\n",
    "    def care(self):\n",
    "        return \"Providing daddy care\"\n",
    "\n",
    "    \n",
    "class Child(Mum, Dad):\n",
    "    pass\n",
    "\n",
    "\n",
    "bobby = Child()\n",
    "bobby.care()  # The child will use the first parent that has the method, going from left to right\n",
    "# MRO - Method Resolution Order - self, class, parents (from lest to right)"
   ]
  },
  {
   "cell_type": "code",
   "execution_count": 84,
   "id": "c9a301f7-7434-48fc-b02b-414783922912",
   "metadata": {
    "tags": []
   },
   "outputs": [
    {
     "data": {
      "text/plain": [
       "('Providing mommy care', 'Providing daddy care')"
      ]
     },
     "execution_count": 84,
     "metadata": {},
     "output_type": "execute_result"
    }
   ],
   "source": [
    "# Because of this and other issues with inheritance, the general recommendation is to\n",
    "# prefer composition (has-a) to inheritance (is-a) relationships between classes\n",
    "# (unless there's a strong case for inheritance)\n",
    "\n",
    "class Mum:\n",
    "    def care(self):\n",
    "        return \"Providing mommy care\"\n",
    "\n",
    "    \n",
    "class Dad:\n",
    "    def care(self):\n",
    "        return \"Providing daddy care\"\n",
    "\n",
    "    \n",
    "class Child:\n",
    "    def __init__(self):\n",
    "        self.mum = Mum()\n",
    "        self.dad = Dad()\n",
    "\n",
    "\n",
    "bobby = Child()\n",
    "bobby.mum.care(), bobby.dad.care()"
   ]
  },
  {
   "cell_type": "code",
   "execution_count": 85,
   "id": "6dbcbfbf-01da-4536-a2f2-351a6c66a7f3",
   "metadata": {
    "tags": []
   },
   "outputs": [
    {
     "data": {
      "text/plain": [
       "('Providing mommy care', 'Providing daddy care')"
      ]
     },
     "execution_count": 85,
     "metadata": {},
     "output_type": "execute_result"
    }
   ],
   "source": [
    "class Child:\n",
    "    def __init__(self, mum, dad):\n",
    "        self.mum = mum\n",
    "        self.dad = dad\n",
    "\n",
    "mommy = Mum()\n",
    "daddy = Dad()\n",
    "bobby = Child(mommy, daddy)\n",
    "bobby.mum.care(), bobby.dad.care()"
   ]
  },
  {
   "cell_type": "code",
   "execution_count": 86,
   "id": "8cd1e760-b237-4d20-bce4-1467d8575371",
   "metadata": {
    "tags": []
   },
   "outputs": [
    {
     "data": {
      "text/plain": [
       "('Providing mommy care', 'Providing daddy care')"
      ]
     },
     "execution_count": 86,
     "metadata": {},
     "output_type": "execute_result"
    }
   ],
   "source": [
    "# And we could create \"wrapper methods\" to make the composition invisible\n",
    "\n",
    "class Child:\n",
    "    \"\"\"A child that has a mum and dad\"\"\"\n",
    "    def __init__(self, mum, dad):\n",
    "        self.mum = mum\n",
    "        self.dad = dad\n",
    "    \n",
    "    def __str__(self):\n",
    "        return \"\"\"I'm a child\"\"\"\n",
    "    \n",
    "    def mum_care(self):\n",
    "        \"\"\"Provide maternal care\"\"\"\n",
    "        return self.mum.care()\n",
    "\n",
    "    def dad_care(self):\n",
    "        return self.dad.care()\n",
    "\n",
    "mommy = Mum()\n",
    "daddy = Dad()\n",
    "bobby = Child(mommy, daddy)\n",
    "\n",
    "bobby.mum_care(), bobby.dad_care()  # note just a single dot for each call"
   ]
  },
  {
   "cell_type": "code",
   "execution_count": 87,
   "id": "26f0c788-6bc0-4192-b6ad-a402a6cb91c2",
   "metadata": {},
   "outputs": [
    {
     "name": "stdout",
     "output_type": "stream",
     "text": [
      "\u001b[1;31mType:\u001b[0m        Child\n",
      "\u001b[1;31mString form:\u001b[0m I'm a child\n",
      "\u001b[1;31mDocstring:\u001b[0m   A child that has a mum and dad"
     ]
    }
   ],
   "source": [
    "bobby?"
   ]
  },
  {
   "cell_type": "markdown",
   "id": "32084730-c3eb-445e-8eb8-7e4b4a703e73",
   "metadata": {
    "tags": []
   },
   "source": [
    "# Private variables and properties"
   ]
  },
  {
   "cell_type": "code",
   "execution_count": 88,
   "id": "1de613da-bcf3-4b11-8025-109871f71618",
   "metadata": {
    "tags": []
   },
   "outputs": [
    {
     "name": "stdout",
     "output_type": "stream",
     "text": [
      "Created a new account with €100\n"
     ]
    }
   ],
   "source": [
    "# Sometimes we have sensitive attributes in our objects, that we don't want touched from outside\n",
    "class BankAccount:\n",
    "    def __init__(self, balance):\n",
    "        self.balance = balance\n",
    "        print(f\"Created a new account with €{self.balance}\")\n",
    "    \n",
    "    def pay(self, amount, item):\n",
    "        print(f\"Buying {item} with €{amount}\")\n",
    "        self.balance -= amount\n",
    "\n",
    "my_account = BankAccount(100)"
   ]
  },
  {
   "cell_type": "code",
   "execution_count": 89,
   "id": "e05960d1-0387-4838-a424-ca0695c350de",
   "metadata": {
    "tags": []
   },
   "outputs": [
    {
     "name": "stdout",
     "output_type": "stream",
     "text": [
      "Buying Vegetables with €30\n",
      "Remaining balance: €70\n"
     ]
    }
   ],
   "source": [
    "my_account.pay(30, \"Vegetables\")\n",
    "print(f\"Remaining balance: €{my_account.balance}\")"
   ]
  },
  {
   "cell_type": "code",
   "execution_count": 90,
   "id": "b6c496fe-1ec7-47cf-9dd7-10929abc6041",
   "metadata": {
    "tags": []
   },
   "outputs": [
    {
     "name": "stdout",
     "output_type": "stream",
     "text": [
      "Buying Vegetables with €30\n",
      "Remaining balance: €1000040\n"
     ]
    }
   ],
   "source": [
    "# But hmm... can I just give myself money?\n",
    "my_account.balance += 1000000\n",
    "my_account.pay(30, \"Vegetables\")\n",
    "print(f\"Remaining balance: €{my_account.balance}\")"
   ]
  },
  {
   "cell_type": "code",
   "execution_count": 92,
   "id": "c6cc4bf9-e85c-4f45-a1fa-d79f37931cf7",
   "metadata": {
    "tags": []
   },
   "outputs": [
    {
     "name": "stdout",
     "output_type": "stream",
     "text": [
      "Created a new account with €100\n",
      "Buying Vegetables with €30\n",
      "70\n"
     ]
    }
   ],
   "source": [
    "# For this, we can make those attributes private by prefixing them with two underscores (but only on the left-hand-side)\n",
    "class BankAccount:\n",
    "    def __init__(self, balance):\n",
    "        self.__balance = balance\n",
    "        print(f\"Created a new account with €{self.__balance}\")\n",
    "    \n",
    "    def pay(self, amount, item):\n",
    "        print(f\"Buying {item} with €{amount}\")\n",
    "        self.__balance -= amount\n",
    "    \n",
    "    def get_balance(self):  # A \"getter\" method to access a private attribute\n",
    "        return self.__balance\n",
    "\n",
    "\n",
    "my_account = BankAccount(100)\n",
    "my_account.pay(30, \"Vegetables\")\n",
    "print(my_account.get_balance())"
   ]
  },
  {
   "cell_type": "code",
   "execution_count": 93,
   "id": "33c9f050-c92d-49bf-a043-345f4aa8c416",
   "metadata": {
    "tags": []
   },
   "outputs": [
    {
     "ename": "AttributeError",
     "evalue": "'BankAccount' object has no attribute '__balance'",
     "output_type": "error",
     "traceback": [
      "\u001b[1;31m---------------------------------------------------------------------------\u001b[0m",
      "\u001b[1;31mAttributeError\u001b[0m                            Traceback (most recent call last)",
      "Cell \u001b[1;32mIn[93], line 2\u001b[0m\n\u001b[0;32m      1\u001b[0m \u001b[39m# This won't work, because the private attribute's name is \"mangled\"\u001b[39;00m\n\u001b[1;32m----> 2\u001b[0m \u001b[39mprint\u001b[39m(\u001b[39mf\u001b[39m\u001b[39m\"\u001b[39m\u001b[39mRemaining balance: €\u001b[39m\u001b[39m{\u001b[39;00mmy_account\u001b[39m.\u001b[39;49m__balance\u001b[39m}\u001b[39;00m\u001b[39m\"\u001b[39m)\n",
      "\u001b[1;31mAttributeError\u001b[0m: 'BankAccount' object has no attribute '__balance'"
     ]
    }
   ],
   "source": [
    "# This won't work, because the private attribute's name is \"mangled\"\n",
    "print(f\"Remaining balance: €{my_account.__balance}\")"
   ]
  },
  {
   "cell_type": "code",
   "execution_count": 94,
   "id": "89008ef8-4847-444f-b5ea-5bcca7dcfbcf",
   "metadata": {
    "tags": []
   },
   "outputs": [
    {
     "name": "stdout",
     "output_type": "stream",
     "text": [
      "70\n"
     ]
    }
   ],
   "source": [
    "# We need to use the getter method\n",
    "print(my_account.get_balance())"
   ]
  },
  {
   "cell_type": "code",
   "execution_count": 95,
   "id": "4966d4cf-0d93-47f1-9cf6-77ae573270d7",
   "metadata": {
    "tags": []
   },
   "outputs": [
    {
     "name": "stdout",
     "output_type": "stream",
     "text": [
      "70\n"
     ]
    }
   ],
   "source": [
    "# Quiz - what would happen if I do this?\n",
    "my_account.balance = 150\n",
    "my_account.__balance = 250\n",
    "print(my_account.get_balance())"
   ]
  },
  {
   "cell_type": "markdown",
   "id": "35f09899-2ec9-4778-9e5a-3da7708ebd71",
   "metadata": {
    "tags": []
   },
   "source": [
    "# In-class Exercise: Create `Dog` class\n",
    "Create a `Dog` class which has the following specification:\n",
    "* Dogs consume their energy by barking and gain energy by sleeping\n",
    "* A fresh `Dog` instance has 10 units of energy\n",
    "* `Dog` has a method `sleep` which gives 2 units of energy\n",
    "* `Dog` has a method `bark` which consumes 1 unit of energy\n",
    "* `Dog` has a method `get_energy` which returns the amount of energy left "
   ]
  },
  {
   "cell_type": "code",
   "execution_count": 20,
   "id": "82166f97-221a-4eb9-9716-432c79db5dcf",
   "metadata": {
    "tags": []
   },
   "outputs": [],
   "source": [
    "# Fill this\n",
    "class Dog:\n",
    "    ..."
   ]
  },
  {
   "cell_type": "markdown",
   "id": "f23eb90a-62b1-4822-bfb8-c26bcb4b6c8c",
   "metadata": {
    "tags": []
   },
   "source": [
    "# Questions"
   ]
  },
  {
   "cell_type": "markdown",
   "id": "9781a2c2-0395-427a-a345-b09232e525db",
   "metadata": {
    "tags": []
   },
   "source": [
    "# Time for breakout rooms"
   ]
  }
 ],
 "metadata": {
  "colab": {
   "name": "Welcome to DataCamp Workspaces.ipynb",
   "provenance": []
  },
  "kernelspec": {
   "display_name": "Python 3 (ipykernel)",
   "language": "python",
   "name": "python3"
  },
  "language_info": {
   "codemirror_mode": {
    "name": "ipython",
    "version": 3
   },
   "file_extension": ".py",
   "mimetype": "text/x-python",
   "name": "python",
   "nbconvert_exporter": "python",
   "pygments_lexer": "ipython3",
   "version": "3.11.0"
  },
  "vscode": {
   "interpreter": {
    "hash": "c261aea317cc0286b3b3261fbba9abdec21eaa57589985bb7a274bf54d6cc0a7"
   }
  }
 },
 "nbformat": 4,
 "nbformat_minor": 5
}
