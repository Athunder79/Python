{
 "cells": [
  {
   "cell_type": "code",
   "execution_count": 28,
   "metadata": {},
   "outputs": [],
   "source": [
    "allteams = []\n",
    "users = {}\n",
    "\n",
    "class Teams:\n",
    "    def __init__(self, team_id, password, team_name, team_color, players=None):\n",
    "        self.team_id = team_id\n",
    "        self.password = password\n",
    "        self.team_name = team_name\n",
    "        self.team_color = team_color\n",
    "        self.players = players or []"
   ]
  },
  {
   "cell_type": "code",
   "execution_count": 30,
   "metadata": {},
   "outputs": [
    {
     "name": "stdout",
     "output_type": "stream",
     "text": [
      "{'tuej': 'team A', 'second': 'team B', 'third': 'team C', 'fourth': 'team D', 'fifth': 'team E'}\n"
     ]
    }
   ],
   "source": [
    "\n",
    "tuej = Teams(\"tuej\", \"123\", \"team A\", \"team color\", [\"player1\", \"player2\"])\n",
    "second = Teams(\"second\", \"1321\", \"team B\", \"team color2\", [\"player1\", \"player2\"])\n",
    "third = Teams(\"third\", \"123\", \"team C\", \"team color3\", [\"player1\", \"player2\"])\n",
    "fourth = Teams(\"fourth\", \"123\", \"team D\", \"team color4\", [\"player1\", \"player2\"])\n",
    "fifth = Teams(\"fifth\", \"123\", \"team E\", \"team color5\", [\"player1\", \"player2\"])\n",
    "\n",
    "allteams.append(tuej)\n",
    "allteams.append(second)\n",
    "allteams.append(third)\n",
    "allteams.append(fourth)\n",
    "allteams.append(fifth)\n",
    "\n",
    "def user():\n",
    "    \n",
    "    for team in allteams: \n",
    "        users[team.team_id] = team.team_name\n",
    "    return users\n",
    "\n",
    "print(user())\n",
    "\n",
    "\n",
    "\n"
   ]
  },
  {
   "cell_type": "code",
   "execution_count": 31,
   "metadata": {},
   "outputs": [
    {
     "name": "stdout",
     "output_type": "stream",
     "text": [
      "['team A', 'team B', 'team C', 'team D', 'team E', 'team A', 'team B', 'team C', 'team D', 'team E']\n"
     ]
    }
   ],
   "source": [
    "allteams=[team.team_name for team in allteams]\n",
    "\n",
    "\n",
    "\n",
    "\n",
    "\n",
    "print(allteams)\n",
    "\n",
    "      \n",
    "\n"
   ]
  },
  {
   "cell_type": "code",
   "execution_count": 32,
   "metadata": {},
   "outputs": [
    {
     "ename": "NameError",
     "evalue": "name 'pairs' is not defined",
     "output_type": "error",
     "traceback": [
      "\u001b[1;31m---------------------------------------------------------------------------\u001b[0m",
      "\u001b[1;31mNameError\u001b[0m                                 Traceback (most recent call last)",
      "\u001b[1;32mc:\\Users\\Andrew Thunder\\Documents\\Python\\new.ipynb Cell 4\u001b[0m line \u001b[0;36m7\n\u001b[0;32m      <a href='vscode-notebook-cell:/c%3A/Users/Andrew%20Thunder/Documents/Python/new.ipynb#W3sZmlsZQ%3D%3D?line=3'>4</a>\u001b[0m     team_name_list \u001b[39m=\u001b[39m [team\u001b[39m.\u001b[39mteam_name \u001b[39mfor\u001b[39;00m team \u001b[39min\u001b[39;00m allteams]\n\u001b[0;32m      <a href='vscode-notebook-cell:/c%3A/Users/Andrew%20Thunder/Documents/Python/new.ipynb#W3sZmlsZQ%3D%3D?line=4'>5</a>\u001b[0m     pairs \u001b[39m=\u001b[39m  \u001b[39mlist\u001b[39m(combinations(team_name_list, \u001b[39m2\u001b[39m))\n\u001b[1;32m----> <a href='vscode-notebook-cell:/c%3A/Users/Andrew%20Thunder/Documents/Python/new.ipynb#W3sZmlsZQ%3D%3D?line=6'>7</a>\u001b[0m \u001b[39mprint\u001b[39m(pairs)\n",
      "\u001b[1;31mNameError\u001b[0m: name 'pairs' is not defined"
     ]
    }
   ],
   "source": [
    "from itertools import combinations\n",
    "\n",
    "def fixtures():\n",
    "    team_name_list = [team.team_name for team in allteams]\n",
    "    pairs =  list(combinations(team_name_list, 2))\n",
    "    \n",
    "print(pairs)"
   ]
  },
  {
   "cell_type": "code",
   "execution_count": null,
   "metadata": {},
   "outputs": [],
   "source": [
    "def generate_fixtures(teams):\n",
    "    \"\"\"\n",
    "    Generate fixtures for a round-robin tournament.\n",
    "\n",
    "    Args:\n",
    "        teams (list): List of team names.\n",
    "\n",
    "    Returns:\n",
    "        list: List of tuples representing fixtures.\n",
    "    \"\"\"\n",
    "    num_weeks = len(teams) - 1\n",
    "\n",
    "    fixtures = []\n",
    "\n",
    "    for week in range(num_weeks):\n",
    "        week_fixtures = []\n",
    "\n",
    "        for i in range(len(teams)//2):\n",
    "            team1 = teams[i]\n",
    "            team2 = teams[len(teams) - 1 - i]\n",
    "\n",
    "            week_fixtures.append((team1, team2))\n",
    "\n",
    "        fixtures.append(week_fixtures)\n",
    "\n",
    "        teams.insert(1, teams.pop())\n",
    "\n",
    "    return fixtures\n",
    "\n",
    "# Example usage\n",
    "teams = [\"Team A\", \"Team B\", \"Team C\", \"Team D\", \"Team E\"]\n",
    "fixtures = generate_fixtures(teams)\n",
    "\n",
    "for week, week_fixtures in enumerate(fixtures, start=1):\n",
    "    print(f\"Week {week} fixtures:\")\n",
    "    for fixture in week_fixtures:\n",
    "        print(f\"{fixture[0]} vs {fixture[1]}\")\n"
   ]
  },
  {
   "cell_type": "code",
   "execution_count": 23,
   "metadata": {},
   "outputs": [],
   "source": [
    "\n"
   ]
  }
 ],
 "metadata": {
  "kernelspec": {
   "display_name": "Python 3",
   "language": "python",
   "name": "python3"
  },
  "language_info": {
   "codemirror_mode": {
    "name": "ipython",
    "version": 3
   },
   "file_extension": ".py",
   "mimetype": "text/x-python",
   "name": "python",
   "nbconvert_exporter": "python",
   "pygments_lexer": "ipython3",
   "version": "3.11.5"
  },
  "orig_nbformat": 4
 },
 "nbformat": 4,
 "nbformat_minor": 2
}
